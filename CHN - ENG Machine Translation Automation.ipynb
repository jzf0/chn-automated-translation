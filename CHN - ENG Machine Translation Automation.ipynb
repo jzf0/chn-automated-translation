{
 "cells": [
  {
   "cell_type": "code",
   "execution_count": 2,
   "id": "a8f2af92",
   "metadata": {},
   "outputs": [],
   "source": [
    "import requests\n",
    "from bs4 import BeautifulSoup\n",
    "from selenium import webdriver\n",
    "from IPython.display import clear_output\n",
    "from selenium.webdriver.common.keys import Keys\n",
    "from selenium.webdriver.common.by import By\n",
    "from selenium.webdriver.support.ui import WebDriverWait\n",
    "from selenium.webdriver.support import expected_conditions as EC\n",
    "import time\n",
    "import pyperclip"
   ]
  },
  {
   "cell_type": "code",
   "execution_count": 3,
   "id": "3ce4380d",
   "metadata": {},
   "outputs": [],
   "source": [
    "def baidu_trans(formatted_list):\n",
    "    web = webdriver.Chrome(executable_path='/Users/jackie/Downloads/chromedriver')\n",
    "    web.get('https://fanyi.baidu.com/#zh/en/')\n",
    "    btnc = web.find_element_by_xpath('/html/body/div[1]/div[7]/div/div/a[2]')\n",
    "    btnc.click()\n",
    "    chinese = web.find_element_by_xpath('//*[@id=\"baidu_translate_input\"]')\n",
    "    chinese.click()\n",
    "    for i in range(len(formatted_list)):\n",
    "        chinese.send_keys(formatted_list[i])\n",
    "        chinese.send_keys(Keys.ENTER)\n",
    "    time.sleep(60)\n",
    "    WebDriverWait(web, 20).until(EC.element_to_be_clickable((By.CSS_SELECTOR, \"#main-outer > div > div > div.translate-wrap > div.translateio > div.translate-main.clearfix > div.trans-right > div > div > div.output-hd.clearfix > div.output-operate > a.operate-btn.op-copy.data-hover-tip\"))).click()\n",
    "    return(pyperclip.paste())\n",
    "\n",
    "def chin_eng(chin_text, eng_text):\n",
    "    result = ''\n",
    "    x = 0\n",
    "    chinese = ''\n",
    "    li = []\n",
    "    countchin = chin_text.count('\\n')\n",
    "    counteng = eng_text.count('\\n')\n",
    "    print(countchin)\n",
    "    print(counteng)\n",
    "    for i in range(len(chin_text)):\n",
    "        if chin_text[i] != '\\n':\n",
    "            result = result + chin_text[i]\n",
    "        else:\n",
    "            li.append(result)\n",
    "            result = ''\n",
    "    li.append(result)\n",
    "    result = ''\n",
    "    for i in range(len(eng_text)):\n",
    "        if eng_text[i] != '\\n':\n",
    "            result = result + eng_text[i]\n",
    "        else:\n",
    "            li.append(result)\n",
    "            result = ''\n",
    "    li.append(result)\n",
    "    result = ''\n",
    "    n = int(len(li))\n",
    "    a=n/2\n",
    "    for i in range(int(a)):\n",
    "        result += (li[i])\n",
    "        result += '\\n'\n",
    "        result += (li[i+int(a)])\n",
    "        result += ('\\n\\n')\n",
    "    print(result)\n",
    "    answer = input('how does this look? good or not')\n",
    "    if answer == 'good':\n",
    "        clear_output()\n",
    "        return result\n",
    "\n",
    "def create_file(chinesetext, englishtext):\n",
    "    fileuinput = str(input('What do you want to call this file? template: booktitle_chp#'))\n",
    "    filename = fileuinput + '.txt'\n",
    "    myfile = open(filename, 'w')\n",
    "    myfile.write(chin_eng(chinesetext, englishtext))\n",
    "    myfile.close()\n",
    "    \n",
    "a = 'formatcontent{}'\n",
    "global feed\n",
    "def split_up(string):\n",
    "    feed = {}\n",
    "    if len(string) < 5000:\n",
    "        clear_output()\n",
    "        return string\n",
    "    else:\n",
    "        x = int(input(\"Input number of 5000-length strings you need (round up)\"))\n",
    "        strlist = [None] * x\n",
    "        for i in range(x):\n",
    "            n = int(len(string)/x)\n",
    "            cur = divvy(string, n)\n",
    "            feed[a.format(i)] = cur\n",
    "        return feed\n",
    "            \n",
    "def divvy (string, n):\n",
    "    out = [(string[i:i+n]) for i in range(0, len(string), n)]\n",
    "    return out\n",
    "\n",
    "def formatstr(string):\n",
    "    chunks = string.split('\\n')\n",
    "    return chunks\n",
    "\n",
    "def cycle(url_start, url_end):\n",
    "    chpnum = 1\n",
    "    while web.current_url != url_end:\n",
    "        time.sleep(10)\n",
    "        if chpnum == 1:\n",
    "            web.get(url_start)\n",
    "        else:\n",
    "            web.get(web.current_url)\n",
    "        chinese = web.find_element_by_id('content').text\n",
    "        print(chinese)\n",
    "        answer = input('move on?')\n",
    "        if answer == 'y':\n",
    "            clear_output()\n",
    "            nextbutton = web.find_element_by_xpath('//*[@id=\"wrapper\"]/div[4]/div/div[4]/a[4]')\n",
    "            nextbutton.click()\n",
    "            chpnum += 1\n",
    "        if answer == 'n':\n",
    "            web.quit()\n",
    "            break\n",
    "    web.quit()"
   ]
  },
  {
   "cell_type": "code",
   "execution_count": 5,
   "id": "9dfda085",
   "metadata": {},
   "outputs": [],
   "source": [
    "# real code here :D\n",
    "\n",
    "web = webdriver.Chrome(executable_path='/Users/jackie/Downloads/chromedriver')\n",
    "\n",
    "url_start = input('Which chapter would you like to start on? Input the url: ')\n",
    "url_end = input('Which chapter would you like to end on? Input hte url: ')\n",
    "\n",
    "chpnum = 1\n",
    "while web.current_url != url_end:\n",
    "    time.sleep(10)\n",
    "    if chpnum == 1:\n",
    "        web.get(url_start)\n",
    "    else:\n",
    "        web.get(web.current_url)\n",
    "    chin = web.find_element_by_id('content').text\n",
    "    chinese = chinese_fix(chin)\n",
    "    print(chinese)\n",
    "    answer = input('move on?')\n",
    "    if answer == 'y':\n",
    "        clear_output()\n",
    "        formatted_list = formatstr(chinese)\n",
    "        english = baidu_trans(formatted_list)\n",
    "        print(english)\n",
    "        if \"y\" == input('y or n'):\n",
    "            clear_output()\n",
    "        print(chin_eng(chinese, english))\n",
    "        if \"y\" == input('y or n'):\n",
    "            clear_output()\n",
    "            create_file(chinese, english)\n",
    "        nextbutton = web.find_element_by_xpath('//*[@id=\"wrapper\"]/div[4]/div/div[4]/a[4]')\n",
    "        nextbutton.click()\n",
    "        chpnum += 1\n",
    "    if answer == 'n':\n",
    "        web.quit()\n",
    "        break\n",
    "web.quit()"
   ]
  },
  {
   "cell_type": "code",
   "execution_count": 6,
   "id": "dd6ec68b",
   "metadata": {},
   "outputs": [],
   "source": [
    "print(chinese)"
   ]
  },
  {
   "cell_type": "code",
   "execution_count": 7,
   "id": "ab3f9813",
   "metadata": {},
   "outputs": [],
   "source": [
    "print(english)"
   ]
  },
  {
   "cell_type": "code",
   "execution_count": 21,
   "id": "9b1a904f",
   "metadata": {},
   "outputs": [],
   "source": [
    "chin = chinese.replace('\\n\\n', '\\n')"
   ]
  },
  {
   "cell_type": "code",
   "execution_count": 8,
   "id": "531d44e9",
   "metadata": {},
   "outputs": [],
   "source": [
    "print(chin)"
   ]
  },
  {
   "cell_type": "code",
   "execution_count": 26,
   "id": "6eb987da",
   "metadata": {},
   "outputs": [
    {
     "name": "stdout",
     "output_type": "stream",
     "text": [
      "83\n",
      "82\n"
     ]
    }
   ],
   "source": [
    "chin_eng(chin1, english)"
   ]
  },
  {
   "cell_type": "code",
   "execution_count": 31,
   "id": "94428aea",
   "metadata": {},
   "outputs": [],
   "source": [
    "chin = chin.replace('\\n\\n', '\\n')"
   ]
  },
  {
   "cell_type": "code",
   "execution_count": 9,
   "id": "7603b964",
   "metadata": {},
   "outputs": [],
   "source": [
    "print(chin)"
   ]
  },
  {
   "cell_type": "code",
   "execution_count": 15,
   "id": "784dd8d9",
   "metadata": {},
   "outputs": [],
   "source": [
    "def chinese_fix(chinesestring):\n",
    "    result = ''\n",
    "    x=0\n",
    "    while '\\n\\n' in chinesestring:\n",
    "        chinesestring = chinesestring.replace('\\n\\n', '\\n')\n",
    "        x += 1\n",
    "    return chinesestring\n",
    "    #print(x)"
   ]
  },
  {
   "cell_type": "code",
   "execution_count": 1,
   "id": "36007efc",
   "metadata": {},
   "outputs": [],
   "source": [
    "print(english)"
   ]
  },
  {
   "cell_type": "code",
   "execution_count": null,
   "id": "65f1e4a2",
   "metadata": {},
   "outputs": [],
   "source": []
  }
 ],
 "metadata": {
  "kernelspec": {
   "display_name": "Python 3",
   "language": "python",
   "name": "python3"
  },
  "language_info": {
   "codemirror_mode": {
    "name": "ipython",
    "version": 3
   },
   "file_extension": ".py",
   "mimetype": "text/x-python",
   "name": "python",
   "nbconvert_exporter": "python",
   "pygments_lexer": "ipython3",
   "version": "3.8.8"
  }
 },
 "nbformat": 4,
 "nbformat_minor": 5
}
